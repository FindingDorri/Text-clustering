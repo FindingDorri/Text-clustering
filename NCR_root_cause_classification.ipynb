{
  "nbformat": 4,
  "nbformat_minor": 0,
  "metadata": {
    "colab": {
      "provenance": [],
      "mount_file_id": "1lDWTfOn3Y1k0IyVDfdd140BFOR6g79_n",
      "authorship_tag": "ABX9TyOBydNQ+h0dFg+BWFduBPvE"
    },
    "kernelspec": {
      "name": "python3",
      "display_name": "Python 3"
    },
    "language_info": {
      "name": "python"
    }
  },
  "cells": [
    {
      "cell_type": "code",
      "execution_count": 41,
      "metadata": {
        "id": "35JQwuu95dD0"
      },
      "outputs": [],
      "source": [
        "import pandas as pd"
      ]
    },
    {
      "cell_type": "code",
      "source": [
        "df = pd.read_csv('NCR_DATA.csv', encoding='latin-1')"
      ],
      "metadata": {
        "id": "CJftfC6O5xdo"
      },
      "execution_count": 42,
      "outputs": []
    },
    {
      "cell_type": "markdown",
      "source": [
        "# Discovery and Analysis"
      ],
      "metadata": {
        "id": "zMLEw1m0WCl-"
      }
    },
    {
      "cell_type": "code",
      "source": [
        "df.columns"
      ],
      "metadata": {
        "colab": {
          "base_uri": "https://localhost:8080/"
        },
        "id": "ylrh8sV7MVJD",
        "outputId": "836fa40f-5ca7-4209-eeed-b3af24886048"
      },
      "execution_count": 43,
      "outputs": [
        {
          "output_type": "execute_result",
          "data": {
            "text/plain": [
              "Index(['Site Area', 'PTR Number', 'Type', 'Subject', 'Organisation',\n",
              "       'Organisation Code', 'Project Area', 'Required Close Out Date',\n",
              "       'Closed Out Date', 'Days Late', 'Date Initiated', 'Discipline',\n",
              "       'Estimated_Cost_of_NCR',\n",
              "       'NCR Classification,\\r\\n\\teB_Proposed_Disposition AS [Proposed_Disposition',\n",
              "       'Final_Disposition', 'Category', 'Status', 'Root Cause', 'Stage',\n",
              "       'Detailed Description'],\n",
              "      dtype='object')"
            ]
          },
          "metadata": {},
          "execution_count": 43
        }
      ]
    },
    {
      "cell_type": "code",
      "source": [
        "# Checking missing values\n",
        "df.isnull().sum()"
      ],
      "metadata": {
        "colab": {
          "base_uri": "https://localhost:8080/",
          "height": 711
        },
        "id": "HeCGz04RMldu",
        "outputId": "a7c90b46-f9d3-4fa5-b280-5beaa86eb9d7"
      },
      "execution_count": 44,
      "outputs": [
        {
          "output_type": "execute_result",
          "data": {
            "text/plain": [
              "Site Area                                                                     789\n",
              "PTR Number                                                                      1\n",
              "Type                                                                            1\n",
              "Subject                                                                         1\n",
              "Organisation                                                                    1\n",
              "Organisation Code                                                            3612\n",
              "Project Area                                                                 2259\n",
              "Required Close Out Date                                                         3\n",
              "Closed Out Date                                                                88\n",
              "Days Late                                                                       3\n",
              "Date Initiated                                                                  1\n",
              "Discipline                                                                      1\n",
              "Estimated_Cost_of_NCR                                                           0\n",
              "NCR Classification,\\r\\n\\teB_Proposed_Disposition AS [Proposed_Disposition     178\n",
              "Final_Disposition                                                              26\n",
              "Category                                                                     3619\n",
              "Status                                                                          1\n",
              "Root Cause                                                                   3860\n",
              "Stage                                                                           1\n",
              "Detailed Description                                                           14\n",
              "dtype: int64"
            ],
            "text/html": [
              "<div>\n",
              "<style scoped>\n",
              "    .dataframe tbody tr th:only-of-type {\n",
              "        vertical-align: middle;\n",
              "    }\n",
              "\n",
              "    .dataframe tbody tr th {\n",
              "        vertical-align: top;\n",
              "    }\n",
              "\n",
              "    .dataframe thead th {\n",
              "        text-align: right;\n",
              "    }\n",
              "</style>\n",
              "<table border=\"1\" class=\"dataframe\">\n",
              "  <thead>\n",
              "    <tr style=\"text-align: right;\">\n",
              "      <th></th>\n",
              "      <th>0</th>\n",
              "    </tr>\n",
              "  </thead>\n",
              "  <tbody>\n",
              "    <tr>\n",
              "      <th>Site Area</th>\n",
              "      <td>789</td>\n",
              "    </tr>\n",
              "    <tr>\n",
              "      <th>PTR Number</th>\n",
              "      <td>1</td>\n",
              "    </tr>\n",
              "    <tr>\n",
              "      <th>Type</th>\n",
              "      <td>1</td>\n",
              "    </tr>\n",
              "    <tr>\n",
              "      <th>Subject</th>\n",
              "      <td>1</td>\n",
              "    </tr>\n",
              "    <tr>\n",
              "      <th>Organisation</th>\n",
              "      <td>1</td>\n",
              "    </tr>\n",
              "    <tr>\n",
              "      <th>Organisation Code</th>\n",
              "      <td>3612</td>\n",
              "    </tr>\n",
              "    <tr>\n",
              "      <th>Project Area</th>\n",
              "      <td>2259</td>\n",
              "    </tr>\n",
              "    <tr>\n",
              "      <th>Required Close Out Date</th>\n",
              "      <td>3</td>\n",
              "    </tr>\n",
              "    <tr>\n",
              "      <th>Closed Out Date</th>\n",
              "      <td>88</td>\n",
              "    </tr>\n",
              "    <tr>\n",
              "      <th>Days Late</th>\n",
              "      <td>3</td>\n",
              "    </tr>\n",
              "    <tr>\n",
              "      <th>Date Initiated</th>\n",
              "      <td>1</td>\n",
              "    </tr>\n",
              "    <tr>\n",
              "      <th>Discipline</th>\n",
              "      <td>1</td>\n",
              "    </tr>\n",
              "    <tr>\n",
              "      <th>Estimated_Cost_of_NCR</th>\n",
              "      <td>0</td>\n",
              "    </tr>\n",
              "    <tr>\n",
              "      <th>NCR Classification,\\r\\n\\teB_Proposed_Disposition AS [Proposed_Disposition</th>\n",
              "      <td>178</td>\n",
              "    </tr>\n",
              "    <tr>\n",
              "      <th>Final_Disposition</th>\n",
              "      <td>26</td>\n",
              "    </tr>\n",
              "    <tr>\n",
              "      <th>Category</th>\n",
              "      <td>3619</td>\n",
              "    </tr>\n",
              "    <tr>\n",
              "      <th>Status</th>\n",
              "      <td>1</td>\n",
              "    </tr>\n",
              "    <tr>\n",
              "      <th>Root Cause</th>\n",
              "      <td>3860</td>\n",
              "    </tr>\n",
              "    <tr>\n",
              "      <th>Stage</th>\n",
              "      <td>1</td>\n",
              "    </tr>\n",
              "    <tr>\n",
              "      <th>Detailed Description</th>\n",
              "      <td>14</td>\n",
              "    </tr>\n",
              "  </tbody>\n",
              "</table>\n",
              "</div><br><label><b>dtype:</b> int64</label>"
            ]
          },
          "metadata": {},
          "execution_count": 44
        }
      ]
    },
    {
      "cell_type": "markdown",
      "source": [
        "Selected and extracted the two most relevant columns"
      ],
      "metadata": {
        "id": "K1p4377SVT-w"
      }
    },
    {
      "cell_type": "code",
      "source": [
        "# New data frame\n",
        "df_new = df[['Root Cause', 'Detailed Description']]"
      ],
      "metadata": {
        "id": "IHNf2Huo6c2r"
      },
      "execution_count": 45,
      "outputs": []
    },
    {
      "cell_type": "code",
      "source": [
        "# Going to remove the missing values in both colums\n",
        "df_new.dropna(subset=['Detailed Description', 'Root Cause'], inplace=True)"
      ],
      "metadata": {
        "colab": {
          "base_uri": "https://localhost:8080/"
        },
        "id": "SgIc9sOQNAsp",
        "outputId": "48240079-81ec-47bc-d4c1-f50c9bb7e058"
      },
      "execution_count": 46,
      "outputs": [
        {
          "output_type": "stream",
          "name": "stderr",
          "text": [
            "<ipython-input-46-16f823714e1a>:2: SettingWithCopyWarning: \n",
            "A value is trying to be set on a copy of a slice from a DataFrame\n",
            "\n",
            "See the caveats in the documentation: https://pandas.pydata.org/pandas-docs/stable/user_guide/indexing.html#returning-a-view-versus-a-copy\n",
            "  df_new.dropna(subset=['Detailed Description', 'Root Cause'], inplace=True)\n"
          ]
        }
      ]
    },
    {
      "cell_type": "code",
      "source": [
        "df_new"
      ],
      "metadata": {
        "colab": {
          "base_uri": "https://localhost:8080/",
          "height": 424
        },
        "id": "KV27yDs5NJDA",
        "outputId": "49a7654b-846b-43bc-dd73-7edc0d14c89e"
      },
      "execution_count": 47,
      "outputs": [
        {
          "output_type": "execute_result",
          "data": {
            "text/plain": [
              "                                              Root Cause  \\\n",
              "4      Design Problem - Drawing, specification, or da...   \n",
              "5                             Management Problem - Other   \n",
              "6        Design Problem - Inadequate or defective design   \n",
              "64       Discipline/Workmanship - Defective construction   \n",
              "65       Discipline/Workmanship - Defective construction   \n",
              "...                                                  ...   \n",
              "25227                     Discipline/Workmanship - Other   \n",
              "25228    Discipline/Workmanship - Defective construction   \n",
              "25229               Discipline/Workmanship - Not Defined   \n",
              "25230    Discipline/Workmanship - Defective construction   \n",
              "25231                     Discipline/Workmanship - Other   \n",
              "\n",
              "                                    Detailed Description  \n",
              "4      Headroom is not sufficient at the ground floor...  \n",
              "5      No information was provided for surveillance Q...  \n",
              "6      Further to Cxxx-NCR-002458 and Cxxx-NCR-002480...  \n",
              "64     The expansion joint C-Crimp for link 28 on the...  \n",
              "65     120mm 1C earth cables are installed between Ea...  \n",
              "...                                                  ...  \n",
              "25227  During the pour of the Area A of the level -5 ...  \n",
              "25228  The Buttress wall has been constructed out of ...  \n",
              "25229  The level 3.5 slab has been constructed out of...  \n",
              "25230  __ have informed London Underground that some ...  \n",
              "25231  \"The approved design includes four Rd30 liftin...  \n",
              "\n",
              "[21371 rows x 2 columns]"
            ],
            "text/html": [
              "\n",
              "  <div id=\"df-ee55e93b-7daf-4386-a7a4-c778204e84b3\" class=\"colab-df-container\">\n",
              "    <div>\n",
              "<style scoped>\n",
              "    .dataframe tbody tr th:only-of-type {\n",
              "        vertical-align: middle;\n",
              "    }\n",
              "\n",
              "    .dataframe tbody tr th {\n",
              "        vertical-align: top;\n",
              "    }\n",
              "\n",
              "    .dataframe thead th {\n",
              "        text-align: right;\n",
              "    }\n",
              "</style>\n",
              "<table border=\"1\" class=\"dataframe\">\n",
              "  <thead>\n",
              "    <tr style=\"text-align: right;\">\n",
              "      <th></th>\n",
              "      <th>Root Cause</th>\n",
              "      <th>Detailed Description</th>\n",
              "    </tr>\n",
              "  </thead>\n",
              "  <tbody>\n",
              "    <tr>\n",
              "      <th>4</th>\n",
              "      <td>Design Problem - Drawing, specification, or da...</td>\n",
              "      <td>Headroom is not sufficient at the ground floor...</td>\n",
              "    </tr>\n",
              "    <tr>\n",
              "      <th>5</th>\n",
              "      <td>Management Problem - Other</td>\n",
              "      <td>No information was provided for surveillance Q...</td>\n",
              "    </tr>\n",
              "    <tr>\n",
              "      <th>6</th>\n",
              "      <td>Design Problem - Inadequate or defective design</td>\n",
              "      <td>Further to Cxxx-NCR-002458 and Cxxx-NCR-002480...</td>\n",
              "    </tr>\n",
              "    <tr>\n",
              "      <th>64</th>\n",
              "      <td>Discipline/Workmanship - Defective construction</td>\n",
              "      <td>The expansion joint C-Crimp for link 28 on the...</td>\n",
              "    </tr>\n",
              "    <tr>\n",
              "      <th>65</th>\n",
              "      <td>Discipline/Workmanship - Defective construction</td>\n",
              "      <td>120mm 1C earth cables are installed between Ea...</td>\n",
              "    </tr>\n",
              "    <tr>\n",
              "      <th>...</th>\n",
              "      <td>...</td>\n",
              "      <td>...</td>\n",
              "    </tr>\n",
              "    <tr>\n",
              "      <th>25227</th>\n",
              "      <td>Discipline/Workmanship - Other</td>\n",
              "      <td>During the pour of the Area A of the level -5 ...</td>\n",
              "    </tr>\n",
              "    <tr>\n",
              "      <th>25228</th>\n",
              "      <td>Discipline/Workmanship - Defective construction</td>\n",
              "      <td>The Buttress wall has been constructed out of ...</td>\n",
              "    </tr>\n",
              "    <tr>\n",
              "      <th>25229</th>\n",
              "      <td>Discipline/Workmanship - Not Defined</td>\n",
              "      <td>The level 3.5 slab has been constructed out of...</td>\n",
              "    </tr>\n",
              "    <tr>\n",
              "      <th>25230</th>\n",
              "      <td>Discipline/Workmanship - Defective construction</td>\n",
              "      <td>__ have informed London Underground that some ...</td>\n",
              "    </tr>\n",
              "    <tr>\n",
              "      <th>25231</th>\n",
              "      <td>Discipline/Workmanship - Other</td>\n",
              "      <td>\"The approved design includes four Rd30 liftin...</td>\n",
              "    </tr>\n",
              "  </tbody>\n",
              "</table>\n",
              "<p>21371 rows × 2 columns</p>\n",
              "</div>\n",
              "    <div class=\"colab-df-buttons\">\n",
              "\n",
              "  <div class=\"colab-df-container\">\n",
              "    <button class=\"colab-df-convert\" onclick=\"convertToInteractive('df-ee55e93b-7daf-4386-a7a4-c778204e84b3')\"\n",
              "            title=\"Convert this dataframe to an interactive table.\"\n",
              "            style=\"display:none;\">\n",
              "\n",
              "  <svg xmlns=\"http://www.w3.org/2000/svg\" height=\"24px\" viewBox=\"0 -960 960 960\">\n",
              "    <path d=\"M120-120v-720h720v720H120Zm60-500h600v-160H180v160Zm220 220h160v-160H400v160Zm0 220h160v-160H400v160ZM180-400h160v-160H180v160Zm440 0h160v-160H620v160ZM180-180h160v-160H180v160Zm440 0h160v-160H620v160Z\"/>\n",
              "  </svg>\n",
              "    </button>\n",
              "\n",
              "  <style>\n",
              "    .colab-df-container {\n",
              "      display:flex;\n",
              "      gap: 12px;\n",
              "    }\n",
              "\n",
              "    .colab-df-convert {\n",
              "      background-color: #E8F0FE;\n",
              "      border: none;\n",
              "      border-radius: 50%;\n",
              "      cursor: pointer;\n",
              "      display: none;\n",
              "      fill: #1967D2;\n",
              "      height: 32px;\n",
              "      padding: 0 0 0 0;\n",
              "      width: 32px;\n",
              "    }\n",
              "\n",
              "    .colab-df-convert:hover {\n",
              "      background-color: #E2EBFA;\n",
              "      box-shadow: 0px 1px 2px rgba(60, 64, 67, 0.3), 0px 1px 3px 1px rgba(60, 64, 67, 0.15);\n",
              "      fill: #174EA6;\n",
              "    }\n",
              "\n",
              "    .colab-df-buttons div {\n",
              "      margin-bottom: 4px;\n",
              "    }\n",
              "\n",
              "    [theme=dark] .colab-df-convert {\n",
              "      background-color: #3B4455;\n",
              "      fill: #D2E3FC;\n",
              "    }\n",
              "\n",
              "    [theme=dark] .colab-df-convert:hover {\n",
              "      background-color: #434B5C;\n",
              "      box-shadow: 0px 1px 3px 1px rgba(0, 0, 0, 0.15);\n",
              "      filter: drop-shadow(0px 1px 2px rgba(0, 0, 0, 0.3));\n",
              "      fill: #FFFFFF;\n",
              "    }\n",
              "  </style>\n",
              "\n",
              "    <script>\n",
              "      const buttonEl =\n",
              "        document.querySelector('#df-ee55e93b-7daf-4386-a7a4-c778204e84b3 button.colab-df-convert');\n",
              "      buttonEl.style.display =\n",
              "        google.colab.kernel.accessAllowed ? 'block' : 'none';\n",
              "\n",
              "      async function convertToInteractive(key) {\n",
              "        const element = document.querySelector('#df-ee55e93b-7daf-4386-a7a4-c778204e84b3');\n",
              "        const dataTable =\n",
              "          await google.colab.kernel.invokeFunction('convertToInteractive',\n",
              "                                                    [key], {});\n",
              "        if (!dataTable) return;\n",
              "\n",
              "        const docLinkHtml = 'Like what you see? Visit the ' +\n",
              "          '<a target=\"_blank\" href=https://colab.research.google.com/notebooks/data_table.ipynb>data table notebook</a>'\n",
              "          + ' to learn more about interactive tables.';\n",
              "        element.innerHTML = '';\n",
              "        dataTable['output_type'] = 'display_data';\n",
              "        await google.colab.output.renderOutput(dataTable, element);\n",
              "        const docLink = document.createElement('div');\n",
              "        docLink.innerHTML = docLinkHtml;\n",
              "        element.appendChild(docLink);\n",
              "      }\n",
              "    </script>\n",
              "  </div>\n",
              "\n",
              "\n",
              "<div id=\"df-c106620e-afa1-44ad-b5fa-ea520a4b8a5b\">\n",
              "  <button class=\"colab-df-quickchart\" onclick=\"quickchart('df-c106620e-afa1-44ad-b5fa-ea520a4b8a5b')\"\n",
              "            title=\"Suggest charts\"\n",
              "            style=\"display:none;\">\n",
              "\n",
              "<svg xmlns=\"http://www.w3.org/2000/svg\" height=\"24px\"viewBox=\"0 0 24 24\"\n",
              "     width=\"24px\">\n",
              "    <g>\n",
              "        <path d=\"M19 3H5c-1.1 0-2 .9-2 2v14c0 1.1.9 2 2 2h14c1.1 0 2-.9 2-2V5c0-1.1-.9-2-2-2zM9 17H7v-7h2v7zm4 0h-2V7h2v10zm4 0h-2v-4h2v4z\"/>\n",
              "    </g>\n",
              "</svg>\n",
              "  </button>\n",
              "\n",
              "<style>\n",
              "  .colab-df-quickchart {\n",
              "      --bg-color: #E8F0FE;\n",
              "      --fill-color: #1967D2;\n",
              "      --hover-bg-color: #E2EBFA;\n",
              "      --hover-fill-color: #174EA6;\n",
              "      --disabled-fill-color: #AAA;\n",
              "      --disabled-bg-color: #DDD;\n",
              "  }\n",
              "\n",
              "  [theme=dark] .colab-df-quickchart {\n",
              "      --bg-color: #3B4455;\n",
              "      --fill-color: #D2E3FC;\n",
              "      --hover-bg-color: #434B5C;\n",
              "      --hover-fill-color: #FFFFFF;\n",
              "      --disabled-bg-color: #3B4455;\n",
              "      --disabled-fill-color: #666;\n",
              "  }\n",
              "\n",
              "  .colab-df-quickchart {\n",
              "    background-color: var(--bg-color);\n",
              "    border: none;\n",
              "    border-radius: 50%;\n",
              "    cursor: pointer;\n",
              "    display: none;\n",
              "    fill: var(--fill-color);\n",
              "    height: 32px;\n",
              "    padding: 0;\n",
              "    width: 32px;\n",
              "  }\n",
              "\n",
              "  .colab-df-quickchart:hover {\n",
              "    background-color: var(--hover-bg-color);\n",
              "    box-shadow: 0 1px 2px rgba(60, 64, 67, 0.3), 0 1px 3px 1px rgba(60, 64, 67, 0.15);\n",
              "    fill: var(--button-hover-fill-color);\n",
              "  }\n",
              "\n",
              "  .colab-df-quickchart-complete:disabled,\n",
              "  .colab-df-quickchart-complete:disabled:hover {\n",
              "    background-color: var(--disabled-bg-color);\n",
              "    fill: var(--disabled-fill-color);\n",
              "    box-shadow: none;\n",
              "  }\n",
              "\n",
              "  .colab-df-spinner {\n",
              "    border: 2px solid var(--fill-color);\n",
              "    border-color: transparent;\n",
              "    border-bottom-color: var(--fill-color);\n",
              "    animation:\n",
              "      spin 1s steps(1) infinite;\n",
              "  }\n",
              "\n",
              "  @keyframes spin {\n",
              "    0% {\n",
              "      border-color: transparent;\n",
              "      border-bottom-color: var(--fill-color);\n",
              "      border-left-color: var(--fill-color);\n",
              "    }\n",
              "    20% {\n",
              "      border-color: transparent;\n",
              "      border-left-color: var(--fill-color);\n",
              "      border-top-color: var(--fill-color);\n",
              "    }\n",
              "    30% {\n",
              "      border-color: transparent;\n",
              "      border-left-color: var(--fill-color);\n",
              "      border-top-color: var(--fill-color);\n",
              "      border-right-color: var(--fill-color);\n",
              "    }\n",
              "    40% {\n",
              "      border-color: transparent;\n",
              "      border-right-color: var(--fill-color);\n",
              "      border-top-color: var(--fill-color);\n",
              "    }\n",
              "    60% {\n",
              "      border-color: transparent;\n",
              "      border-right-color: var(--fill-color);\n",
              "    }\n",
              "    80% {\n",
              "      border-color: transparent;\n",
              "      border-right-color: var(--fill-color);\n",
              "      border-bottom-color: var(--fill-color);\n",
              "    }\n",
              "    90% {\n",
              "      border-color: transparent;\n",
              "      border-bottom-color: var(--fill-color);\n",
              "    }\n",
              "  }\n",
              "</style>\n",
              "\n",
              "  <script>\n",
              "    async function quickchart(key) {\n",
              "      const quickchartButtonEl =\n",
              "        document.querySelector('#' + key + ' button');\n",
              "      quickchartButtonEl.disabled = true;  // To prevent multiple clicks.\n",
              "      quickchartButtonEl.classList.add('colab-df-spinner');\n",
              "      try {\n",
              "        const charts = await google.colab.kernel.invokeFunction(\n",
              "            'suggestCharts', [key], {});\n",
              "      } catch (error) {\n",
              "        console.error('Error during call to suggestCharts:', error);\n",
              "      }\n",
              "      quickchartButtonEl.classList.remove('colab-df-spinner');\n",
              "      quickchartButtonEl.classList.add('colab-df-quickchart-complete');\n",
              "    }\n",
              "    (() => {\n",
              "      let quickchartButtonEl =\n",
              "        document.querySelector('#df-c106620e-afa1-44ad-b5fa-ea520a4b8a5b button');\n",
              "      quickchartButtonEl.style.display =\n",
              "        google.colab.kernel.accessAllowed ? 'block' : 'none';\n",
              "    })();\n",
              "  </script>\n",
              "</div>\n",
              "\n",
              "  <div id=\"id_fae9ce9b-eb60-4dd0-a3d8-be407fdadc0a\">\n",
              "    <style>\n",
              "      .colab-df-generate {\n",
              "        background-color: #E8F0FE;\n",
              "        border: none;\n",
              "        border-radius: 50%;\n",
              "        cursor: pointer;\n",
              "        display: none;\n",
              "        fill: #1967D2;\n",
              "        height: 32px;\n",
              "        padding: 0 0 0 0;\n",
              "        width: 32px;\n",
              "      }\n",
              "\n",
              "      .colab-df-generate:hover {\n",
              "        background-color: #E2EBFA;\n",
              "        box-shadow: 0px 1px 2px rgba(60, 64, 67, 0.3), 0px 1px 3px 1px rgba(60, 64, 67, 0.15);\n",
              "        fill: #174EA6;\n",
              "      }\n",
              "\n",
              "      [theme=dark] .colab-df-generate {\n",
              "        background-color: #3B4455;\n",
              "        fill: #D2E3FC;\n",
              "      }\n",
              "\n",
              "      [theme=dark] .colab-df-generate:hover {\n",
              "        background-color: #434B5C;\n",
              "        box-shadow: 0px 1px 3px 1px rgba(0, 0, 0, 0.15);\n",
              "        filter: drop-shadow(0px 1px 2px rgba(0, 0, 0, 0.3));\n",
              "        fill: #FFFFFF;\n",
              "      }\n",
              "    </style>\n",
              "    <button class=\"colab-df-generate\" onclick=\"generateWithVariable('df_new')\"\n",
              "            title=\"Generate code using this dataframe.\"\n",
              "            style=\"display:none;\">\n",
              "\n",
              "  <svg xmlns=\"http://www.w3.org/2000/svg\" height=\"24px\"viewBox=\"0 0 24 24\"\n",
              "       width=\"24px\">\n",
              "    <path d=\"M7,19H8.4L18.45,9,17,7.55,7,17.6ZM5,21V16.75L18.45,3.32a2,2,0,0,1,2.83,0l1.4,1.43a1.91,1.91,0,0,1,.58,1.4,1.91,1.91,0,0,1-.58,1.4L9.25,21ZM18.45,9,17,7.55Zm-12,3A5.31,5.31,0,0,0,4.9,8.1,5.31,5.31,0,0,0,1,6.5,5.31,5.31,0,0,0,4.9,4.9,5.31,5.31,0,0,0,6.5,1,5.31,5.31,0,0,0,8.1,4.9,5.31,5.31,0,0,0,12,6.5,5.46,5.46,0,0,0,6.5,12Z\"/>\n",
              "  </svg>\n",
              "    </button>\n",
              "    <script>\n",
              "      (() => {\n",
              "      const buttonEl =\n",
              "        document.querySelector('#id_fae9ce9b-eb60-4dd0-a3d8-be407fdadc0a button.colab-df-generate');\n",
              "      buttonEl.style.display =\n",
              "        google.colab.kernel.accessAllowed ? 'block' : 'none';\n",
              "\n",
              "      buttonEl.onclick = () => {\n",
              "        google.colab.notebook.generateWithVariable('df_new');\n",
              "      }\n",
              "      })();\n",
              "    </script>\n",
              "  </div>\n",
              "\n",
              "    </div>\n",
              "  </div>\n"
            ],
            "application/vnd.google.colaboratory.intrinsic+json": {
              "type": "dataframe",
              "variable_name": "df_new",
              "summary": "{\n  \"name\": \"df_new\",\n  \"rows\": 21371,\n  \"fields\": [\n    {\n      \"column\": \"Root Cause\",\n      \"properties\": {\n        \"dtype\": \"category\",\n        \"num_unique_values\": 95,\n        \"samples\": [\n          \"Discipline/Workmanship - Error by manufacturer in shipping or marking\",\n          \"Material/Preservation Problems - Improper preservation of material after installation\",\n          \"Subcontractor Problems - Insufficient work planning by the subcontractors\"\n        ],\n        \"semantic_type\": \"\",\n        \"description\": \"\"\n      }\n    },\n    {\n      \"column\": \"Detailed Description\",\n      \"properties\": {\n        \"dtype\": \"string\",\n        \"num_unique_values\": 21277,\n        \"samples\": [\n          \"The contractor wishes to inform the project manager of that the insulation pins which have been used to hang the 50mm thick __ thermal insulation to ductwork have been installed outside of the manufacturers recommendations during the last month since the ambient temperature of on the project has decreased. The manufacturers recommendation is that the insulation pins are installed between ambient temperatures of 15-24c.  \",\n          \"Further to the request of Cxxx, a localised area of approximately  3mx2m within the SCL P2 layer of IE1 invert was investigated for adherence between the P2 and P1 layers. 4no cores were taken through the P2 lining, being approximately 150mm in length. Also 1no core was taken through the P2 and P1 lining, being approximately 600mm in length. These cores confirmed good compaction of  the SCL. All cores separated at the cold joint between P2 and P1 layers. 1no 150mm core of P2 separated at the leading edge joint approximately halfway through the core. Prior to spraying of the invert all rebound is blown out and the invert surface washed over. \\r\\nAll cores are shown in the attached cores log.\\r\\n\",\n          \"A SCL rebound estimation test is required to be completed once every 2 months as per KT20-06. This test was required at Eleanor Street last week but it was missed.\"\n        ],\n        \"semantic_type\": \"\",\n        \"description\": \"\"\n      }\n    }\n  ]\n}"
            }
          },
          "metadata": {},
          "execution_count": 47
        }
      ]
    },
    {
      "cell_type": "code",
      "source": [
        "# Analyze the 'Root Cause' column\n",
        "root_cause_column = df_new['Root Cause']\n",
        "\n",
        "# Get unique values and their counts\n",
        "unique_values = root_cause_column.value_counts(dropna=False)\n",
        "\n",
        "# Get the count of missing values\n",
        "missing_count = root_cause_column.isna().sum()\n",
        "\n",
        "# Display unique values and their counts, missing count\n",
        "print(\"Unique values and their counts:\")\n",
        "print(unique_values.to_string())\n",
        "print(f\"\\nNumber of missing values: {missing_count}\")"
      ],
      "metadata": {
        "colab": {
          "base_uri": "https://localhost:8080/"
        },
        "id": "RPpPCCIDNMa3",
        "outputId": "cb0da096-cf08-427c-e155-46d48c261500"
      },
      "execution_count": 48,
      "outputs": [
        {
          "output_type": "stream",
          "name": "stdout",
          "text": [
            "Unique values and their counts:\n",
            "Root Cause\n",
            "Discipline/Workmanship - Defective construction                                                       4670\n",
            "Discipline/Workmanship - Other                                                                        2893\n",
            "Design Problem - Other                                                                                1484\n",
            "Management Problem - Inadequate supervision                                                           1013\n",
            "Material/Preservation Problems - Other                                                                 845\n",
            "Design Problem - Inadequate or defective design                                                        774\n",
            "Discipline/Workmanship - Prerequisites not satisfied                                                   621\n",
            "Management Problem - Other                                                                             563\n",
            "Management Problem - Inadequate administrative control                                                 558\n",
            "Material/Preservation Problems - Damaged material                                                      417\n",
            "Design Problem - Drawing, specification, or data errors                                                402\n",
            "Management Problem - Policy not adequately defined, disseminated, or enforced                          348\n",
            "Subcontractor Problems - Problems with execution, workmanship, or supervision                          335\n",
            "Management Problem - Work organization/planning deficiency                                             333\n",
            "Discipline/Workmanship - Work not properly planned                                                     305\n",
            "Supervision - Insufficient supervision                                                                 294\n",
            "Material/Preservation Problems - Use of unapproved materials                                           283\n",
            "Procedure Problem - Other                                                                              267\n",
            "Design Problem - Not Defined                                                                           262\n",
            "Discipline/Workmanship - Not Defined                                                                   250\n",
            "Management Problem - Misunderstand the definition of the requirement                                   244\n",
            "Verification Problems - Other                                                                          243\n",
            "Personnel Error - Inattention to detail                                                                237\n",
            "External Phenomenon - Other                                                                            230\n",
            "Design Problem - Conflicting information on drawings                                                   224\n",
            "Material/Preservation Problems - Improper preservation of material after installation                  207\n",
            "Design Problem - Error in equipment or material selection                                              154\n",
            "Discipline/Workmanship - Worker not correctly instructed                                               152\n",
            "Personnel Error - Violation of requirement or procedure                                                151\n",
            "Design Problem - Use of unapproved drawings                                                            140\n",
            "Procedure Problem - Defective or inadequate procedure                                                  136\n",
            "Design Problem - Change to drawings not provided on time                                               136\n",
            "Supervision - Other                                                                                    129\n",
            "Personnel Error - Other human error                                                                    112\n",
            "Discipline/Workmanship - Contamination                                                                 111\n",
            "Material/Preservation Problems - Not Defined                                                           111\n",
            "Material/Preservation Problems - Improper handling of material                                         107\n",
            "Discipline/Workmanship - Insufficient information made available to the worker.                         90\n",
            "Management Problem - Other management problem                                                           87\n",
            "Procedure Problem - Lack of procedure                                                                   87\n",
            "Management Problem - Not Defined                                                                        79\n",
            "Subcontractor Problems - Other                                                                          71\n",
            "Discipline/Workmanship - Information not detailed                                                       71\n",
            "Procedure Problem - Not Defined                                                                         61\n",
            "Previous Construction - Problems based on previous construction errors                                  59\n",
            "Subcontractor Problems - Insufficient surveillance of subcontractors                                    58\n",
            "Management Problem - Inadequate resources                                                               57\n",
            "Verification Problems - Inspection points not adequate                                                  56\n",
            "Discipline/Workmanship - Error by manufacturer in shipping or marking                                   55\n",
            "Personnel Error - Not Defined                                                                           54\n",
            "Verification Problems - Not Defined                                                                     46\n",
            "Material/Preservation Problems - Insufficient quantity of material to do the job                        42\n",
            "Material/Preservation Problems - Lack or improper material identification and traceability              42\n",
            "Material/Preservation Problems - Improper storage of material                                           41\n",
            "Discipline/Workmanship - Inadequate/insufficient tooling.                                               39\n",
            "Previous Construction - Interfacing issues                                                              39\n",
            "Previous Construction - Other                                                                           39\n",
            "Subcontractor Problems - Interfacing problems                                                           38\n",
            "External Phenomenon - Not Defined                                                                       38\n",
            "Subcontractor Problems - Insufficient work planning by the subcontractors                               34\n",
            "Management Problem - Improper resource allocation                                                       33\n",
            "Discipline/Workmanship - Counterfeit Items                                                              27\n",
            "Discipline/Workmanship - Worker not trained for the work being performed                                26\n",
            "External Phenomenon - Weather or ambient condition                                                      21\n",
            "Management Problem - No evidence of program review from Contractor's Quality Manager or Management      21\n",
            "Personnel Error - Verbal communication problem                                                          21\n",
            "Procedure Problem - Lack of approval Code 1 procedures excessive                                        17\n",
            "Discipline/Workmanship - Worker not qualified                                                           14\n",
            "Previous Construction - Improper As Built                                                               13\n",
            "External Phenomenon - Theft, tampering, sabotage, or vandalism                                          12\n",
            "Supervision - Not Defined                                                                               12\n",
            "Design Problem - NCR excessive closure due to design issue                                              11\n",
            "Subcontractor Problems - Not Defined                                                                    11\n",
            "Discipline/Workmanship - Electrical or instrument noise                                                  9\n",
            "Design Problem - Approval of Design Change Notice (FCN/FCR) in CTI excessive                             9\n",
            "Procedure Problem - Failure to follow status stamp                                                       8\n",
            "Supervision - Supervisor does not have sufficient experience                                             8\n",
            "Training Deficiency - No training provided                                                               8\n",
            "Supervision - Supervisor not familiar with the work                                                      8\n",
            "Training Deficiency - Insufficient practice or hands -on experience                                      6\n",
            "Supervision - Supervisor does not have access to all pertinent information                               6\n",
            "Verification Problems - Unavailability or inadequate M&TE                                                5\n",
            "Design Problem - Inadequate man -machine interface                                                       5\n",
            "Previous Construction - Not Defined                                                                      5\n",
            "Verification Problems - Inspector not properly qualified                                                 5\n",
            "Personnel Error - Inadequate work environment                                                            4\n",
            "Training Deficiency - Other                                                                              4\n",
            "Verification Problems - Inspector not familiar with inspection methods                                   4\n",
            "Training Deficiency - Not Defined                                                                        4\n",
            "External Phenomenon - Power failure or transient                                                         4\n",
            "Constructability                                                                                         2\n",
            "Training Deficiency - Inadequate content                                                                 1\n",
            "External Phenomenon - External fire or explosion                                                         1\n",
            "Supervision - Supervisor not available on jobsite                                                        1\n",
            "Previous Construction - Failure to follow close out process                                              1\n",
            "\n",
            "Number of missing values: 0\n"
          ]
        }
      ]
    },
    {
      "cell_type": "markdown",
      "source": [
        "The original dataset contained 95 unique root cause values, many of which had subcategories and some appeared infrequently. This creates class imbalance and makes it difficult to predict\n",
        "\n",
        "To address this, I'm going to extract only the main category before the dash to simplify the labels."
      ],
      "metadata": {
        "id": "1jHhpzBbV9Cc"
      }
    },
    {
      "cell_type": "markdown",
      "source": [
        "# Data Transformation"
      ],
      "metadata": {
        "id": "CeU4dqYNYBt4"
      }
    },
    {
      "cell_type": "code",
      "source": [
        "# Extract main category before the first dash (if applicable)\n",
        "df_new['Root_Cause_Main'] = df_new['Root Cause'].apply(lambda x: x.split(' - ')[0])"
      ],
      "metadata": {
        "colab": {
          "base_uri": "https://localhost:8080/"
        },
        "id": "VwytvRfvRsz7",
        "outputId": "3b1be8a0-5c08-43f1-fad6-43f9a409e07b"
      },
      "execution_count": 49,
      "outputs": [
        {
          "output_type": "stream",
          "name": "stderr",
          "text": [
            "<ipython-input-49-0de1ead37915>:2: SettingWithCopyWarning: \n",
            "A value is trying to be set on a copy of a slice from a DataFrame.\n",
            "Try using .loc[row_indexer,col_indexer] = value instead\n",
            "\n",
            "See the caveats in the documentation: https://pandas.pydata.org/pandas-docs/stable/user_guide/indexing.html#returning-a-view-versus-a-copy\n",
            "  df_new['Root_Cause_Main'] = df_new['Root Cause'].apply(lambda x: x.split(' - ')[0])\n"
          ]
        }
      ]
    },
    {
      "cell_type": "code",
      "source": [
        "unique_values = df_new['Root_Cause_Main'].value_counts(dropna=False)\n",
        "print(unique_values.to_string())"
      ],
      "metadata": {
        "colab": {
          "base_uri": "https://localhost:8080/"
        },
        "id": "l1C3r2POZGaL",
        "outputId": "9f9506e8-add4-40a8-e76e-17c1514e3998"
      },
      "execution_count": 50,
      "outputs": [
        {
          "output_type": "stream",
          "name": "stdout",
          "text": [
            "Root_Cause_Main\n",
            "Discipline/Workmanship            9333\n",
            "Design Problem                    3601\n",
            "Management Problem                3336\n",
            "Material/Preservation Problems    2095\n",
            "Personnel Error                    579\n",
            "Procedure Problem                  576\n",
            "Subcontractor Problems             547\n",
            "Supervision                        458\n",
            "Verification Problems              359\n",
            "External Phenomenon                306\n",
            "Previous Construction              156\n",
            "Training Deficiency                 23\n",
            "Constructability                     2\n"
          ]
        }
      ]
    },
    {
      "cell_type": "markdown",
      "source": [
        "Target value still seems imblanced.I will group categories with fewer than 1000 occurrences into 'Other' to improve model performance and ensure better balance in the dataset."
      ],
      "metadata": {
        "id": "7yyjU3v8ZNsP"
      }
    },
    {
      "cell_type": "code",
      "source": [
        "# Count occurrences of each main category\n",
        "cat_counts = df_new['Root_Cause_Main'].value_counts()\n",
        "\n",
        "# Identify low-frequency categories\n",
        "low_freq_cat = cat_counts[cat_counts < 1000].index.tolist()\n",
        "\n",
        "# Group low-frequency categories into 'Other'\n",
        "df_new['Root_Cause_Main'] = df_new['Root_Cause_Main'].apply(lambda x: 'Other' if x in low_freq_cat else x)\n"
      ],
      "metadata": {
        "colab": {
          "base_uri": "https://localhost:8080/"
        },
        "id": "gsRd9DU0Ynbh",
        "outputId": "a5f95cfc-b70f-40c4-d80d-5f605f342bd0"
      },
      "execution_count": 51,
      "outputs": [
        {
          "output_type": "stream",
          "name": "stderr",
          "text": [
            "<ipython-input-51-5b8eaabbb790>:8: SettingWithCopyWarning: \n",
            "A value is trying to be set on a copy of a slice from a DataFrame.\n",
            "Try using .loc[row_indexer,col_indexer] = value instead\n",
            "\n",
            "See the caveats in the documentation: https://pandas.pydata.org/pandas-docs/stable/user_guide/indexing.html#returning-a-view-versus-a-copy\n",
            "  df_new['Root_Cause_Main'] = df_new['Root_Cause_Main'].apply(lambda x: 'Other' if x in low_freq_cat else x)\n"
          ]
        }
      ]
    },
    {
      "cell_type": "code",
      "source": [
        "unique_values = df_new['Root_Cause_Main'].value_counts(dropna=False)\n",
        "print(unique_values.to_string())"
      ],
      "metadata": {
        "colab": {
          "base_uri": "https://localhost:8080/"
        },
        "id": "q8EVh52ZS-xf",
        "outputId": "388f6515-c836-4796-cab9-082529370236"
      },
      "execution_count": 52,
      "outputs": [
        {
          "output_type": "stream",
          "name": "stdout",
          "text": [
            "Root_Cause_Main\n",
            "Discipline/Workmanship            9333\n",
            "Design Problem                    3601\n",
            "Management Problem                3336\n",
            "Other                             3006\n",
            "Material/Preservation Problems    2095\n"
          ]
        }
      ]
    }
  ]
}